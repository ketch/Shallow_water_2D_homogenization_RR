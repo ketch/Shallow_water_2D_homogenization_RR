{
 "cells": [
  {
   "cell_type": "code",
   "execution_count": null,
   "id": "91115a09-7a2f-4be0-95c8-f7dbd091ad78",
   "metadata": {},
   "outputs": [],
   "source": [
    "from homog_pseudospectral import *\n",
    "from sw2d import *\n",
    "from clawpack import pyclaw\n",
    "font = {'size'   : 15}\n",
    "matplotlib.rc('font', **font)"
   ]
  },
  {
   "cell_type": "markdown",
   "id": "c7ff23b2-6451-4bd0-8804-eba8f251fc71",
   "metadata": {},
   "source": [
    "## Comparison of 3 solutions over sinusoidal bathymetry"
   ]
  },
  {
   "cell_type": "markdown",
   "id": "7029f7d4-2ad4-43e1-871e-9de2aa38d3c0",
   "metadata": {},
   "source": [
    "To generate the data for this, run:\n",
    "\n",
    "`mpirun -np 8 python3 sw2d.py cells_per_period=160 bjump=0.3 btype=sinusoidal channel_width=1.0 outdir=\"./_b03_sin_yw1_160cpp_g98_a05_t300_L200\" num_output_times=300 solver_type=classic tfinal=300 L=200 pulse_amplitude=0.05`\n",
    "\n",
    "You also need to run the MATLAB code.  Open MATLAB, navigate to the `matlab` directory under this one, and run the command `sw2d`."
   ]
  },
  {
   "cell_type": "markdown",
   "id": "f211cf6c-3dfd-4f3f-9470-bedd9f6ebead",
   "metadata": {},
   "source": [
    "First we solve the 1D homogenized equations:"
   ]
  },
  {
   "cell_type": "code",
   "execution_count": null,
   "id": "a8dac5bb-485d-492a-ad5c-5e6fdd97b497",
   "metadata": {},
   "outputs": [],
   "source": [
    "# This takes a few minutes to run\n",
    "m = 32000\n",
    "T = 300\n",
    "x, xi, momentum, surface_homog, anim = solve_SWH(h_amp=0.05,m=m,tmax=T,btype=\"sinusoidal\",b_amp=0.3,num_plots=T,L=2000,make_anim=False)"
   ]
  },
  {
   "cell_type": "code",
   "execution_count": null,
   "id": "9d7e9f58-6b92-4483-b706-ecd69a9124e8",
   "metadata": {},
   "outputs": [],
   "source": [
    "tmax = T\n",
    "fig, ax = plt.subplots(2,2,figsize=(12,8),sharey=True)\n",
    "plt.subplots_adjust(wspace=0.02)\n",
    "ytext = 0.03\n",
    "props = dict(facecolor='lightgrey', alpha=0.2)\n",
    "t_int = tmax/(len(surface_homog)-1)\n",
    "lw = 2\n",
    "PS_path=\"./matlab/32k/\"#/sept15-run/\"\n",
    "FV_path = \"./_b03_sin_yw1_160cpp_g98_a05_t300_L200\"\n",
    "\n",
    "def load_frame(i):\n",
    "    surface_ps = np.loadtxt(PS_path+\"eta_\"+str(i)+\".txt\")\n",
    "    xc_ps = np.loadtxt(PS_path+\"x32.txt\")\n",
    "    frame = pyclaw.Solution(i,file_format='petsc',file_prefix='claw',read_aux=True,path=FV_path)\n",
    "    n = frame.q.shape[2]\n",
    "    b = frame.aux[0,:,:]\n",
    "    h = frame.q[0,:,:]\n",
    "    surface_fv = h+b; surface_fv = surface_fv.mean(1)\n",
    "    xc_fv = frame.state.grid.x.centers\n",
    "    return xc_ps, surface_ps, xc_fv, surface_fv\n",
    "\n",
    "def add_plot(frame,axis,xmin,xmax,offset=0):\n",
    "    i = frame\n",
    "    axis = axis\n",
    "    xc_ps, surface_ps, xc_fv, surface_fv = load_frame(i)\n",
    "    axis.plot(xc_fv,surface_fv,\"-k\",label=\"Variable-bathymetry solution (FV averaged)\",lw=lw)\n",
    "    axis.plot(xc_fv+100,surface_fv,\"-k\",lw=lw)\n",
    "    axis.plot(xc_fv+200,surface_fv,\"-k\",lw=lw)\n",
    "    axis.plot(xc_fv+300,surface_fv,\"-k\",lw=lw)\n",
    "    axis.plot(xc_fv+400,surface_fv,\"-k\",lw=lw)\n",
    "    axis.plot(xc_fv+600,surface_fv,\"-k\",lw=lw)\n",
    "    axis.plot(xc_ps+offset,surface_ps,\"--\",label=\"Variable-bathymetry solution (PS averaged)\",lw=lw)\n",
    "    axis.plot(x,surface_homog[i],\"--r\",label=\"Homogenized solution\",lw=lw)\n",
    "    axis.set_xlim(xmin,xmax); axis.set_ylim(-1e-3,0.05)\n",
    "    axis.set_xticks(range(int(xmin)+5, int(xmax)-4, 10))\n",
    "    axis.text(xmin+(xmax-xmin)/10,ytext,'$t=%3.1f$' % (i*t_int),bbox=props)\n",
    "\n",
    "add_plot(50,axis=ax[0,0],xmin=140,xmax=180,offset=0)\n",
    "fig.legend(loc='upper center', fancybox=True, shadow=True);\n",
    "add_plot(100,axis=ax[0,1],xmin=295,xmax=335,offset=0)\n",
    "add_plot(150,axis=ax[1,0],xmin=450,xmax=490,offset=0)\n",
    "add_plot(200,axis=ax[1,1],xmin=610,xmax=650,offset=0)\n",
    "\n",
    "#add_plot(30,axis=ax[0,0],xmin=70,xmax=110,offset=0)\n",
    "#fig.legend(loc='upper center', fancybox=True, shadow=True);\n",
    "#add_plot(70,axis=ax[0,1],xmin=200,xmax=240,offset=0)\n",
    "#add_plot(120,axis=ax[1,0],xmin=360,xmax=400,offset=0)\n",
    "#add_plot(150,axis=ax[1,1],xmin=450,xmax=490,offset=0)\n",
    "\n",
    "fig.text(0.5, 0.04, 'x', ha='center', va='center')\n",
    "fig.text(0.06, 0.5, r'Surface elevation ($\\eta$)', ha='center', va='center', rotation='vertical')\n",
    "plt.savefig('comparison_sinusoidal_4panel.pdf')"
   ]
  },
  {
   "cell_type": "markdown",
   "id": "b64b5799-3f68-4e1f-83d4-959450de862f",
   "metadata": {},
   "source": [
    "### Comparison of solution differences over time\n",
    "\n",
    "Here we compute the differences between the FV and PS solutions versus the homogenized solution and how the differences grow over time.\n",
    "It's a bit tricky to match up the solutions, especially because the FV code is run on a domain of length 100 with periodic boundary conditions, in order to reduce the computational cost.  So we only compute the error over a window containing the advancing solitary wave train, and we avoid times when that train overlaps with the boundary."
   ]
  },
  {
   "cell_type": "code",
   "execution_count": null,
   "id": "2038adb8-9a6b-4098-abef-931e575b6a67",
   "metadata": {},
   "outputs": [],
   "source": [
    "difference_FV = []\n",
    "difference_PS = []\n",
    "tt = np.array([5, 10, 15, 20, 25, 40, 45, 50, 55, 70,75,80,85,90,105,110,115,135,140,\n",
    "          150,165,170,175,180,185,200,205,210,215,230,235,240,245,265,270,275,295,300])\n",
    "for i in tt:\n",
    "    offset = get_offset(i)\n",
    "    xc_ps, surface_ps, xc_fv, surface_fv = load_frame(int(i))\n",
    "    dx_ps = xc_ps[1]-xc_ps[0]\n",
    "    dx_fv = xc_fv[1] - xc_fv[0]\n",
    "    dx_homog = x[1]-x[0]\n",
    "    surface_homog_val = surface_homog[i][16000+offset*1600:16000+(offset+1)*1600]\n",
    "    surface_ps_val = surface_ps[16000+offset*1600:16000+(offset+1)*1600]\n",
    "    difference_FV.append(np.linalg.norm(surface_fv[::10]-surface_homog_val[:],1)*dx_ps)\n",
    "    difference_PS.append(np.linalg.norm(surface_ps_val-surface_homog_val[:],1)*dx_ps)"
   ]
  },
  {
   "cell_type": "code",
   "execution_count": null,
   "id": "786bf339-b805-481e-b46d-0035065fb156",
   "metadata": {},
   "outputs": [],
   "source": [
    "plt.plot(tt,difference_FV)\n",
    "plt.plot(tt,difference_PS)\n",
    "plt.legend([\"FV\",\"PS\"])"
   ]
  },
  {
   "cell_type": "markdown",
   "id": "0dd3c4bd-7213-48a5-aa35-2db120131c99",
   "metadata": {},
   "source": [
    "## Comparison of solutions over discontinuous bathymetry\n",
    "\n",
    "For this comparison we omit the 2D pseudospectral solver since it can't deal with non-smooth bathymetry."
   ]
  },
  {
   "cell_type": "code",
   "execution_count": null,
   "id": "95e94a50-080e-4bbf-ab85-413c49650ab2",
   "metadata": {},
   "outputs": [],
   "source": [
    "b_amp = 1.2\n",
    "\n",
    "m = 8192*4\n",
    "T = 400\n",
    "x, xi, momentum, eta, anim = solve_SWH(h_amp=0.05,m=m,tmax=T,b_amp=b_amp,num_plots=800,L=2800,make_anim=False)"
   ]
  },
  {
   "cell_type": "markdown",
   "id": "de8646e4-bc4b-4202-a283-3f1b57eca9a5",
   "metadata": {},
   "source": [
    "To generate the FV simulation data, run\n",
    "\n",
    "`mpirun -np 8 python3 sw2d.py cells_per_period=40 bjump=1.2 btype=pwc channel_width=1.0 outdir=\"./_b12_pwc_yw1_40cpp_g98_a05_t400_L400_cl\" num_output_times=800 solver_type=classic tfinal=400 L=400`"
   ]
  },
  {
   "cell_type": "code",
   "execution_count": null,
   "id": "99db810a-feea-492f-8c99-ede707e862cc",
   "metadata": {},
   "outputs": [],
   "source": [
    "tmax = T\n",
    "fig, ax = plt.subplots(2,2,figsize=(12,8),sharey=True)\n",
    "plt.subplots_adjust(wspace=0.02)\n",
    "ytext = 0.03\n",
    "props = dict(facecolor='lightgrey', alpha=0.2)\n",
    "t_int = tmax/(len(eta)-1)\n",
    "lw = 2\n",
    "path=\"./_b12_pwc_yw1_40cpp_g98_a05_t400_L400_cl\"\n",
    "\n",
    "def load_frame(i):\n",
    "    frame = pyclaw.Solution(i,file_format='petsc',file_prefix='claw',read_aux=True,path=path)\n",
    "    n = frame.q.shape[2]\n",
    "    b = frame.aux[0,:,:]\n",
    "    h = frame.q[0,:,:]\n",
    "    surface = h+b\n",
    "    surface = surface.mean(axis=1)\n",
    "    xc = frame.state.grid.x.centers\n",
    "\n",
    "    return xc, surface\n",
    "\n",
    "def add_plot(frame,axis,xmin,xmax,offset=0):\n",
    "    i = frame\n",
    "    axis = axis\n",
    "    #xfine, pfine = fine_resolution(p_ps[i],10000,x_ps,xi_ps)\n",
    "    #axis.set_ylim(0.99,1.17)\n",
    "    xc, surface = load_frame(i)\n",
    "    axis.plot(xc+offset,surface[:],\"-k\",label=\"Variable-bathymetry solution (FV averaged)\",lw=lw)\n",
    "    axis.plot(x,eta[i],\"--\",label=\"Homogenized solution\",lw=lw)\n",
    "    #axis.plot(xfine,pfine,'-.',lw=lw, label='Homogenized p-system')\n",
    "    axis.set_xlim(xmin,xmax)\n",
    "    axis.set_xticks(range(int(xmin)+5, int(xmax)-4, 10))\n",
    "    #axis.set_yticks([1, 1.05, 1.1])  # set only 3 y-axis tick labels\n",
    "    axis.text(xmin+(xmax-xmin)/10,ytext,'$t=%3.1f$' % (i*t_int),bbox=props)\n",
    "\n",
    "add_plot(100,axis=ax[0,0],xmin=135,xmax=175,offset=0)\n",
    "fig.legend(loc='upper center', fancybox=True, shadow=True);\n",
    "add_plot(200,axis=ax[0,1],xmin=300,xmax=340,offset=200)\n",
    "add_plot(400,axis=ax[1,0],xmin=610,xmax=650,offset=600)\n",
    "add_plot(800,axis=ax[1,1],xmin=1240,xmax=1290,offset=1200)\n",
    "\n",
    "fig.text(0.5, 0.04, 'x', ha='center', va='center')\n",
    "fig.text(0.06, 0.5, r'Surface elevation ($\\eta$)', ha='center', va='center', rotation='vertical')\n",
    "plt.savefig('comparison.pdf')"
   ]
  },
  {
   "cell_type": "markdown",
   "id": "1a28fc9a-d497-4a62-b65f-0ddbd6e432ad",
   "metadata": {},
   "source": [
    "# Solitary wave shape investigation"
   ]
  },
  {
   "cell_type": "markdown",
   "id": "0cb16469-de86-45bf-abfd-bec79f32c32e",
   "metadata": {},
   "source": [
    "## Train of waves"
   ]
  },
  {
   "cell_type": "markdown",
   "id": "880807e4-2a22-4970-920a-c8994a9807ce",
   "metadata": {},
   "source": [
    "The data for the next figures is generated via\n",
    "\n",
    "`mpirun -np 8 python3 sw2d.py cells_per_period=40 bjump=1.2 btype=pwc channel_width=1.0 outdir=\"./_b12_pwc_yw1_40cpp_g98_a08_t400_L200_cl\" num_output_times=1400 solver_type=classic tfinal=1400 L=200`"
   ]
  },
  {
   "cell_type": "code",
   "execution_count": null,
   "id": "6df8b67f-d980-42aa-adbf-ccafcf2d62d5",
   "metadata": {},
   "outputs": [],
   "source": [
    "i = 399\n",
    "path = \"_b12_pwc_yw1_40cpp_g98_a08_t400_L200_cl\"\n",
    "frame = pyclaw.Solution(i,file_format='petsc',file_prefix='claw',read_aux=True,path=path)\n",
    "b = frame.aux[0,:,:]\n",
    "n = frame.q.shape[2]\n",
    "h = frame.q[0,:,:]\n",
    "print(h.shape)\n",
    "surface = h+b\n",
    "surface_mean = surface.mean(axis=1)\n",
    "xc = frame.state.grid.x.centers\n",
    "yc = frame.state.grid.y.centers\n",
    "\n",
    "offset = 2500\n",
    "plt.figure(figsize=(12,4))\n",
    "plt.plot(xc,surface_mean)\n",
    "#plt.xlim(480,520)\n",
    "#plt.legend(['Direct','Homogenized'])\n",
    "\n",
    "delta = np.diff(surface_mean)\n",
    "dd = delta[1:]*delta[:-1] * (surface_mean[2:]>0.0011)\n",
    "peaks = np.where(dd<0)[0]\n",
    "\n",
    "peaks = peaks[2:]\n",
    "\n",
    "#plt.plot(xc[peaks],surface_mean[peaks],'ok');\n",
    "print(peaks)\n",
    "plt.xlim(0,100)\n",
    "plt.ylabel(r\"$\\overline{\\eta}$\")\n",
    "plt.xlabel(r\"x\");\n",
    "plt.savefig(\"three_sol.pdf\", bbox_inches=\"tight\")"
   ]
  },
  {
   "cell_type": "markdown",
   "id": "cce71b48-a67a-46f9-a224-13cedb7cb038",
   "metadata": {},
   "source": [
    "## sech^2 fit"
   ]
  },
  {
   "cell_type": "code",
   "execution_count": null,
   "id": "e7191bbb-dc67-4d77-be9d-a27e661b5bb7",
   "metadata": {},
   "outputs": [],
   "source": [
    "centers = xc[peaks]\n",
    "amplitudes = surface_mean[peaks]\n",
    "lw = 2\n",
    "i = 0\n",
    "for c, a in zip(centers,amplitudes):\n",
    "    plt.plot((xc-c-0.03)*np.sqrt(a),surface_mean/a,lw=lw,label=str(i))\n",
    "    i += 1\n",
    "#plt.plot([0,0],[0,1],\"--k\")\n",
    "plt.ylim(-0.1,1.1)\n",
    "plt.xlim(-0.5,0.5);\n",
    "\n",
    "xx = np.linspace(-1,1,1000)\n",
    "\n",
    "fac = 4.85\n",
    "sech2 = 1./(np.cosh(fac*(xx)))**2\n",
    "plt.plot(xx,sech2,\"--k\")\n",
    "#plt.legend();\n",
    "plt.ylabel(r\"$\\overline{\\eta}$\")\n",
    "plt.xlabel(r\"$\\hat{x}$\");\n",
    "plt.savefig(\"rescaled.pdf\", bbox_inches=\"tight\")"
   ]
  },
  {
   "cell_type": "markdown",
   "id": "4e2dcf6c-0635-4bd3-81d9-6c0530eb6652",
   "metadata": {},
   "source": [
    "`mpirun -np 8 python3 sw2d.py cells_per_period=40 bjump=1.2 btype=pwc channel_width=1.0 outdir=\"./_b12_pwc_yw1_40cpp_g98_a05_t400_L200_cl\" num_output_times=600 solver_type=classic tfinal=600 L=200`"
   ]
  },
  {
   "cell_type": "markdown",
   "id": "e1b6af1c-d05a-4e16-81a4-35f9fd7e8125",
   "metadata": {},
   "source": [
    "Note that for this one we must use the default minmod limiter; with MC there is an instability at late times."
   ]
  },
  {
   "cell_type": "code",
   "execution_count": null,
   "id": "7d591ae0-2145-41ac-b1d4-4485ad9255a7",
   "metadata": {},
   "outputs": [],
   "source": [
    "from diffracton_shape import *\n",
    "\n",
    "n = 520\n",
    "path=\"./_b12_pwc_yw1_40cpp_g98_a05_t400_L200_cl\"\n",
    "frame = pyclaw.Solution(n,file_format='petsc',file_prefix='claw',read_aux=True,path=path)\n",
    "n = frame.q.shape[2]\n",
    "b = frame.aux[0,:,:]\n",
    "h = frame.q[0,:,:]\n",
    "surface = h+b\n",
    "surface_mean = surface.mean(axis=1)\n",
    "xc = frame.state.grid.x.centers\n",
    "yc = frame.state.grid.y.centers\n",
    "\n",
    "offset = 2500\n",
    "\n",
    "delta = np.diff(surface_mean)\n",
    "dd = delta[1:]*delta[:-1] * (surface_mean[2:]>0.0011)\n",
    "peaks = np.where(dd<0)[0]\n",
    "\n",
    "i = 3\n",
    "X,Y = frame.state.grid.p_centers\n",
    "Sh, Shu, Shv = initialize_solitary_wave(A=surface_mean[peaks[i]],X=X-xc[peaks[i]],Y=Y,fac=4.85,b=b)\n",
    "Ssurface = Sh+b\n",
    "Ssurface_mean = Ssurface.mean(axis=1)\n",
    "\n",
    "for iy in [10, 29]:\n",
    "    plt.plot(xc,surface[:,iy],'k')\n",
    "    plt.plot(xc+0.035,Ssurface[:,iy],'--')\n",
    "    plt.xlim(62,68)\n",
    "    #plt.xlim(66,75)\n",
    "    plt.xlabel(\"$x$\")\n",
    "    plt.ylabel(r\"$\\eta(x,y)$\");\n",
    "\n",
    "#plt.legend([\"$y=-19/80$\",\"$y=21/80$\"],fontsize=10);\n",
    "plt.savefig(\"y_slices_comparison.pdf\",bbox_inches=\"tight\");"
   ]
  },
  {
   "cell_type": "code",
   "execution_count": null,
   "id": "c7e2374d-a0f5-41ae-8d2b-88e7f147ba6e",
   "metadata": {},
   "outputs": [],
   "source": [
    "hv = frame.q[2,:,:]\n",
    "hv_mean = hv.mean(axis=1)\n",
    "Shv_mean = Shv.mean(axis=1)\n",
    "\n",
    "for iy in [19, 39]:\n",
    "    plt.plot(xc,hv[:,iy],\"k\")\n",
    "    plt.plot(xc+0.03,Shv[:,iy],\"--\")\n",
    "    plt.xlim(60,70)\n",
    "    plt.xlabel(\"$x$\")\n",
    "    plt.ylabel(r\"$p(x,y)$\");\n",
    "\n",
    "#plt.legend([\"$y=-19/80$\",\"$y=21/80$\"],fontsize=10);\n",
    "plt.savefig(\"y_slices_comparison_p.pdf\",bbox_inches=\"tight\");"
   ]
  },
  {
   "cell_type": "code",
   "execution_count": null,
   "id": "a570ce09",
   "metadata": {},
   "outputs": [],
   "source": [
    "dx = xc[1]-xc[0]\n",
    "dy = yc[1]-yc[0]\n",
    "ix = peaks[-1]+6\n",
    "plt.plot(yc,surface[ix,:],\"k\")\n",
    "y = yc + 1/2;\n",
    "d1 = -b.max(); d2 = -b.min(); dd = (d1-d2)/8;\n",
    "brHinvbrH = (1/192)*(2-d1/d2 - d2/d1) + (y<0.5)*dd*y*(2*y-1)/d1 - (y>=0.5)*dd*(2*y**2-3*y+1)/d2\n",
    "\n",
    "eta_xx = (surface_mean[ix+1] - 2*surface_mean[ix] + surface_mean[ix-1])/dx**2\n",
    "print(eta_xx)\n",
    "plt.plot(yc,surface_mean[ix] - brHinvbrH * eta_xx,\"--\")\n",
    "plt.xlim(-0.5,0.5);\n",
    "plt.ylabel(r\"$\\eta(x,y)$\");\n",
    "plt.xlabel(r\"$y$\");\n",
    "plt.savefig(\"eta_vs_y.pdf\",bbox_inches=\"tight\");\n",
    "print(xc[ix])"
   ]
  },
  {
   "cell_type": "code",
   "execution_count": null,
   "id": "0ec47d7e",
   "metadata": {},
   "outputs": [],
   "source": [
    "dx = frame.grid.x.delta\n",
    "hu = frame.q[1,:,:]\n",
    "u = hu/h\n",
    "umean = u.mean(axis=1)\n",
    "\n",
    "b1 = b.max(); b2 = b.min(); bd4=(b1-b2)/4;\n",
    "bb = (yc<0.)*bd4*(0.5+2*yc) + (yc>=0.)*bd4*(0.5-2*yc)\n",
    "\n",
    "L = xc[-1]-xc[0]+dx\n",
    "m = len(xc)\n",
    "xi = np.fft.fftfreq(m)*m*2*np.pi/L  # Wavenumber \"grid\"\n",
    "dudx = np.real(np.fft.ifft(1j*xi*np.fft.fft(umean)))\n",
    "\n",
    "ix = peaks[-1]+20\n",
    "plt.plot(yc,hv[ix,:],\"k\")\n",
    "plt.plot(yc,dudx[ix]*bb,\"--\")\n",
    "plt.ylabel(r\"$p(x,y)$\")\n",
    "plt.xlabel(r\"$y$\");\n",
    "plt.xlim(-0.5,0.5);\n",
    "plt.savefig(\"p_vs_y.pdf\",bbox_inches=\"tight\");"
   ]
  },
  {
   "cell_type": "code",
   "execution_count": null,
   "id": "19651b98",
   "metadata": {},
   "outputs": [],
   "source": [
    "print(xc[ix])"
   ]
  },
  {
   "cell_type": "markdown",
   "id": "44deda49-bb50-4943-851f-8f4a65cd0251",
   "metadata": {},
   "source": [
    "# 3D plots"
   ]
  },
  {
   "cell_type": "markdown",
   "id": "cbc3ce06",
   "metadata": {},
   "source": [
    "## Example geometry plot for introduction"
   ]
  },
  {
   "cell_type": "code",
   "execution_count": null,
   "id": "fbbb2144",
   "metadata": {},
   "outputs": [],
   "source": [
    "import pyvista as pv\n",
    "\n",
    "xmax = 10\n",
    "ymax = 3\n",
    "x = np.linspace(0,xmax+0.01,10000)\n",
    "y = np.linspace(-ymax-0.01,ymax+0.01,10000)\n",
    "X, Y = np.meshgrid(x,y)\n",
    "\n",
    "bfun = 0.5*((Y - np.floor(Y))>0.5)\n",
    "bfun = 0.1+0.25*(np.sin(2*np.pi*Y)+1)\n",
    "b = bfun*(X<xmax)*(np.abs(Y)<ymax)\n",
    "surf = (1+0.8*np.exp(-(0.7*(X-7))**2))*(X<xmax)*(np.abs(Y)<ymax)+bfun*(X>=xmax)+bfun*(np.abs(Y)>=ymax)\n",
    "\n",
    "grid = pv.StructuredGrid(X, Y, b)\n",
    "grid_surf = pv.StructuredGrid(X, Y, surf)\n",
    "\n",
    "plotter = pv.Plotter() \n",
    "plotter.add_mesh(grid, color=\"sandybrown\");\n",
    "plotter.add_mesh(grid_surf, color=\"steelblue\");\n",
    "plotter.camera.azimuth = -5.0\n",
    "plotter.camera.elevation = -15.0\n",
    "plotter.show(jupyter_backend=\"static\")"
   ]
  },
  {
   "cell_type": "code",
   "execution_count": null,
   "id": "b9ac1949",
   "metadata": {},
   "outputs": [],
   "source": [
    "plotter.save_graphic(\"geometry.pdf\")"
   ]
  },
  {
   "cell_type": "markdown",
   "id": "7dabfc93",
   "metadata": {},
   "source": [
    "## Solitary wave train"
   ]
  },
  {
   "cell_type": "code",
   "execution_count": null,
   "id": "59da5393",
   "metadata": {},
   "outputs": [],
   "source": [
    "i = 800\n",
    "frame = pyclaw.Solution(i,file_format='petsc',file_prefix='claw',read_aux=True,path=path)\n",
    "n = frame.q.shape[2]\n",
    "b = frame.aux[0,:,:]\n",
    "h = frame.q[0,:,:]\n",
    "surface = h+b\n",
    "X, Y = frame.state.grid.p_centers\n",
    "\n",
    "scalefac = 1\n",
    "surface = surface*scalefac\n",
    "b = b*scalefac\n",
    "\n",
    "xstart = X.shape[0]*14//64\n",
    "xend = X.shape[0]*30//64\n",
    "X = X[xstart:xend,:]\n",
    "Y = Y[xstart:xend,:]\n",
    "surface = surface[xstart:xend,:]\n",
    "b = b[xstart:xend,:]\n",
    "\n",
    "sref = surface[:,::-1]\n",
    "scomb = np.concatenate([sref,surface],axis=1)\n",
    "bref = b[:,::-1]\n",
    "bcomb = np.concatenate([bref,b],axis=1)\n",
    "\n",
    "\n",
    "Ycomb = np.concatenate([Y,Y+1],axis=1)\n",
    "Xcomb = np.concatenate([X,X],axis=1)\n",
    "\n",
    "dupe = 2\n",
    "if dupe > 1:\n",
    "    # Duplicate again in the y-direction\n",
    "    scomb = np.concatenate([scomb,scomb],axis=1)\n",
    "    bcomb = np.concatenate([bcomb,bcomb],axis=1)\n",
    "    Xcomb = np.concatenate([Xcomb,Xcomb],axis=1)\n",
    "    Ycomb = np.concatenate([Ycomb,Ycomb+2],axis=1)\n",
    "    if dupe > 2:\n",
    "        # Duplicate again in the y-direction\n",
    "        scomb = np.concatenate([scomb,scomb],axis=1)\n",
    "        bcomb = np.concatenate([bcomb,bcomb],axis=1)\n",
    "        Xcomb = np.concatenate([Xcomb,Xcomb],axis=1)\n",
    "        Ycomb = np.concatenate([Ycomb,Ycomb+4],axis=1)\n",
    "        if dupe > 4:\n",
    "            # Duplicate again in the y-direction\n",
    "            scomb = np.concatenate([scomb,scomb],axis=1)\n",
    "            bcomb = np.concatenate([bcomb,bcomb],axis=1)\n",
    "            Xcomb = np.concatenate([Xcomb,Xcomb],axis=1)\n",
    "            Ycomb = np.concatenate([Ycomb,Ycomb+8],axis=1)\n",
    "\n",
    "\n",
    "scomb[0,:] = bcomb[0,:]\n",
    "scomb[-1,:] = bcomb[-1,:]\n",
    "scomb[:,0] = bcomb[:,0]\n",
    "scomb[:,-1] = bcomb[:,-1]\n",
    "\n",
    "bmin = bcomb.min()\n",
    "bcomb[0,:] = bmin\n",
    "bcomb[-1,:] = bmin\n",
    "bcomb[:,0] = bmin\n",
    "bcomb[:,-1] = bmin\n",
    "\n",
    "Xcomb = Xcomb/16*dupe\n"
   ]
  },
  {
   "cell_type": "code",
   "execution_count": null,
   "id": "eeeaedfb",
   "metadata": {},
   "outputs": [],
   "source": [
    "grid = pv.StructuredGrid(Xcomb, Ycomb, bcomb)\n",
    "grid_surf = pv.StructuredGrid(Xcomb, Ycomb, scomb)\n",
    "\n",
    "plotter = pv.Plotter(window_size=[1600,800]) \n",
    "plotter.add_mesh(grid, color=\"sandybrown\");\n",
    "plotter.add_mesh(grid_surf, color=\"steelblue\")#, specular=1., specular_power=15);\n",
    "plotter.camera.azimuth = 180.0\n",
    "plotter.camera.elevation = -15.0\n",
    "plotter.camera.zoom(1.5)\n",
    "\n",
    "light = pv.Light(position=(-90, 0., 135.), light_type='camera light', intensity=0.3)\n",
    "plotter.add_light(light)\n",
    "\n",
    "#light = pv.Light(light_type='headlight')\n",
    "#plotter.add_light(light)\n",
    "\n",
    "\n",
    "plotter.show(jupyter_backend=\"static\")\n",
    "plotter.save_graphic(\"pwc_isometric.pdf\")"
   ]
  },
  {
   "cell_type": "markdown",
   "id": "db683cb4",
   "metadata": {},
   "source": [
    "# P-color plots"
   ]
  },
  {
   "cell_type": "code",
   "execution_count": null,
   "id": "6aba0033",
   "metadata": {},
   "outputs": [],
   "source": [
    "import matplotlib.colors as colors\n",
    "\n",
    "i = 800\n",
    "path=\"./_b12_pwc_yw1_40cpp_g98_a05_t400_L400_cl\"\n",
    "frame = pyclaw.Solution(i,file_format='petsc',file_prefix='claw',read_aux=True,path=path)\n",
    "n = frame.q.shape[2]\n",
    "b = frame.aux[0,:,:]\n",
    "h = frame.q[0,:,:]\n",
    "hv = frame.q[2,:,:]\n",
    "v = hv/h\n",
    "surface = h+b\n",
    "\n",
    "X, Y = frame.state.grid.p_centers\n",
    "X = X+1200\n",
    "\n",
    "plt.figure(figsize=(12,4))\n",
    "plt.pcolor(X,Y,surface,cmap=\"Blues\");#,norm=colors.LogNorm(vmin=2e-2, vmax=surface.max()))\n",
    "plt.xlim(1230,1290)\n",
    "plt.colorbar()\n",
    "plt.xlabel(\"$x$\")\n",
    "plt.ylabel(\"$y$\");\n",
    "plt.plot([1230,1290],[0,0],\"--k\");\n",
    "plt.savefig(\"surface_pcolor.pdf\",bbox_inches=\"tight\")"
   ]
  },
  {
   "cell_type": "code",
   "execution_count": null,
   "id": "f0fdafcc",
   "metadata": {},
   "outputs": [],
   "source": [
    "plt.figure(figsize=(12,4))\n",
    "plt.pcolor(X,Y,np.sign(hv)*np.abs(hv)**0.33,cmap=\"RdBu\",norm=colors.SymLogNorm(linthresh=0.03, linscale=0.03,\n",
    "                                              vmin=-0.3, vmax=0.3, base=10))\n",
    "plt.xlim(1230,1290)\n",
    "plt.colorbar(ticks=[-0.3,-0.1,0,0.1,0.3])\n",
    "plt.xlabel(\"$x$\")\n",
    "plt.ylabel(\"$y$\");\n",
    "plt.plot([1230,1290],[0,0],\"--k\");\n",
    "plt.savefig(\"hv_pcolor.pdf\",bbox_inches=\"tight\")"
   ]
  },
  {
   "cell_type": "code",
   "execution_count": null,
   "id": "79eb7b8b",
   "metadata": {},
   "outputs": [],
   "source": []
  }
 ],
 "metadata": {
  "kernelspec": {
   "display_name": "Python 3",
   "language": "python",
   "name": "python3"
  },
  "language_info": {
   "codemirror_mode": {
    "name": "ipython",
    "version": 3
   },
   "file_extension": ".py",
   "mimetype": "text/x-python",
   "name": "python",
   "nbconvert_exporter": "python",
   "pygments_lexer": "ipython3",
   "version": "3.11.4"
  }
 },
 "nbformat": 4,
 "nbformat_minor": 5
}
